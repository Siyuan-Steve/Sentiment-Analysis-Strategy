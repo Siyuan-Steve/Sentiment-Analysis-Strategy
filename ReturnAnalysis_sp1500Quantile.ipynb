{
 "cells": [
  {
   "cell_type": "code",
   "execution_count": 1,
   "metadata": {},
   "outputs": [],
   "source": [
    "import numpy as np\n",
    "import pandas as pd\n",
    "import math\n",
    "import datetime\n",
    "import os\n",
    "from scipy import stats\n",
    "#import statsmodels.formula.api as sm\n",
    "import sys"
   ]
  },
  {
   "cell_type": "code",
   "execution_count": 4,
   "metadata": {},
   "outputs": [
    {
     "name": "stdout",
     "output_type": "stream",
     "text": [
      "100.07%"
     ]
    }
   ],
   "source": [
    "result = {}\n",
    "tickerFile = \"sp1500tickerWoSlash.csv\"\n",
    "with open(tickerFile) as csvfile:\n",
    "    tickers = csvfile.read().split(\"\\n\")\n",
    "i = 0\n",
    "for ticker in tickers:\n",
    "    pricepFile = \"./sp1500data/sp1500price/\"+ticker+\"Price.csv\"\n",
    "    sentimentFile = \"./sp1500data/sp1500sentiment/\"+ticker+\"Sentiment.csv\"\n",
    "    priceData = pd.read_csv(pricepFile, sep=\"\\t\", skiprows=1,\n",
    "                        names = [\"Date\",\"Ticker\",\"Price\"], low_memory=False)\n",
    "    sentimentData = pd.read_csv(sentimentFile, sep=\",\", skiprows=1,\n",
    "                         names = [\"UTCTime\",\"Ticker\",\"Sentiment\",\"Date\"], low_memory=False)\n",
    "    if not priceData.empty:\n",
    "        priceData.Date = priceData.Date.apply(lambda x: pd.to_datetime(x,format='%m/%d/%Y').date())\n",
    "        priceData = priceData.set_index(\"Date\")\n",
    "        priceData[\"Return\"] = priceData.Price/priceData.Price.shift(1) - 1\n",
    "        sentimentData = sentimentData.drop(\"UTCTime\", axis=1)\n",
    "        sentimentData.Date = sentimentData.Date.apply(lambda x: pd.to_datetime(x,format='%Y-%m-%d').date())\n",
    "        sentimentData = sentimentData.set_index(\"Date\")\n",
    "        Score = sentimentData.groupby(\"Date\")[\"Sentiment\"].apply(lambda x: np.log((list(x).count(1)+1)/(list(x).count(-1)+1)))\n",
    "        result[ticker] = pd.merge(priceData, Score.to_frame(), how = \"left\", left_index = True, right_index = True)\n",
    "    i += 1\n",
    "    sys.stdout.write('\\r%.2f%%'%((i+1)*100/len(tickers)))\n",
    "    sys.stdout.flush()"
   ]
  },
  {
   "cell_type": "code",
   "execution_count": 5,
   "metadata": {},
   "outputs": [
    {
     "ename": "TypeError",
     "evalue": "unsupported operand type(s) for &: 'str' and 'float'",
     "output_type": "error",
     "traceback": [
      "\u001b[1;31m---------------------------------------------------------------------------\u001b[0m",
      "\u001b[1;31mTypeError\u001b[0m                                 Traceback (most recent call last)",
      "\u001b[1;32m<ipython-input-5-9755ab89f4b7>\u001b[0m in \u001b[0;36m<module>\u001b[1;34m()\u001b[0m\n\u001b[0;32m     17\u001b[0m     \u001b[1;32mfor\u001b[0m \u001b[0mj\u001b[0m \u001b[1;32min\u001b[0m \u001b[0mrange\u001b[0m\u001b[1;33m(\u001b[0m\u001b[0mnclass\u001b[0m\u001b[1;33m)\u001b[0m\u001b[1;33m:\u001b[0m\u001b[1;33m\u001b[0m\u001b[0m\n\u001b[0;32m     18\u001b[0m         \u001b[0mquantileReturn\u001b[0m\u001b[1;33m[\u001b[0m\u001b[0mj\u001b[0m\u001b[1;33m]\u001b[0m\u001b[1;33m.\u001b[0m\u001b[0mappend\u001b[0m\u001b[1;33m(\u001b[0m\u001b[0mnp\u001b[0m\u001b[1;33m.\u001b[0m\u001b[0mmean\u001b[0m\u001b[1;33m(\u001b[0m\u001b[1;33m[\u001b[0m\u001b[0mr\u001b[0m \u001b[1;32mfor\u001b[0m \u001b[0ms\u001b[0m\u001b[1;33m,\u001b[0m\u001b[0mr\u001b[0m \u001b[1;32min\u001b[0m \u001b[0mreturnSorted\u001b[0m\u001b[1;33m[\u001b[0m\u001b[0mj\u001b[0m\u001b[1;33m*\u001b[0m\u001b[0mn\u001b[0m\u001b[1;33m:\u001b[0m\u001b[1;33m(\u001b[0m\u001b[0mj\u001b[0m\u001b[1;33m+\u001b[0m\u001b[1;36m1\u001b[0m\u001b[1;33m)\u001b[0m\u001b[1;33m*\u001b[0m\u001b[0mn\u001b[0m\u001b[1;33m]\u001b[0m\u001b[1;33m]\u001b[0m\u001b[1;33m)\u001b[0m\u001b[1;33m)\u001b[0m\u001b[1;33m\u001b[0m\u001b[0m\n\u001b[1;32m---> 19\u001b[1;33m     \u001b[0msys\u001b[0m\u001b[1;33m.\u001b[0m\u001b[0mstdout\u001b[0m\u001b[1;33m.\u001b[0m\u001b[0mwrite\u001b[0m\u001b[1;33m(\u001b[0m\u001b[1;34m\"\\r%.2f%%\"\u001b[0m\u001b[1;33m&\u001b[0m\u001b[1;33m(\u001b[0m\u001b[1;33m(\u001b[0m\u001b[0mi\u001b[0m\u001b[1;33m+\u001b[0m\u001b[1;36m1\u001b[0m\u001b[1;33m)\u001b[0m\u001b[1;33m*\u001b[0m\u001b[1;36m100\u001b[0m\u001b[1;33m/\u001b[0m\u001b[0mlen\u001b[0m\u001b[1;33m(\u001b[0m\u001b[0mDates\u001b[0m\u001b[1;33m)\u001b[0m\u001b[1;33m)\u001b[0m\u001b[1;33m)\u001b[0m\u001b[1;33m\u001b[0m\u001b[0m\n\u001b[0m",
      "\u001b[1;31mTypeError\u001b[0m: unsupported operand type(s) for &: 'str' and 'float'"
     ]
    }
   ],
   "source": [
    "tickersUse = [k for k in result.keys()]\n",
    "nclass = 5\n",
    "quantileReturn = {i:[] for i in range(nclass)}\n",
    "Dates = result[tickersUse[1]].index\n",
    "for i in range(len(Dates)-1):\n",
    "    Date = Dates[i]\n",
    "    scoreList = []\n",
    "    nextdayReturnList = []\n",
    "    for ticker in tickersUse:\n",
    "        if Date in result[ticker].index and Dates[i+1] in result[ticker].index:\n",
    "            if not np.isnan(result[ticker].loc[Date][\"Sentiment\"]) and not np.isnan(result[ticker].loc[Dates[i+1]][\"Return\"]):\n",
    "                scoreList.append(result[ticker].loc[Date][\"Sentiment\"])\n",
    "                nextdayReturnList.append(result[ticker].loc[Dates[i+1]][\"Return\"])\n",
    "    returnUse = list(zip(scoreList, nextdayReturnList))\n",
    "    returnSorted = sorted(returnUse, key = lambda x:x[0])\n",
    "    n = len(returnSorted)//nclass\n",
    "    for j in range(nclass):\n",
    "        quantileReturn[j].append(np.mean([r for s,r in returnSorted[j*n:(j+1)*n]]))\n",
    "    sys.stdout.write(\"\\r%.2f%%\"&((i+1)*100/len(Dates)))"
   ]
  },
  {
   "cell_type": "code",
   "execution_count": 98,
   "metadata": {},
   "outputs": [
    {
     "data": {
      "text/plain": [
       "[1.4989867884538546,\n",
       " 3.3346375852439203,\n",
       " 9.015021503983661,\n",
       " 7.2652719975885649,\n",
       " 33.491728420855821]"
      ]
     },
     "execution_count": 98,
     "metadata": {},
     "output_type": "execute_result"
    }
   ],
   "source": [
    "#每档cummulative return,从分低到分高\n",
    "[np.cumprod([x+1 for x in v if not x==np.inf])[-1] for k,v in quantileReturn.items()]"
   ]
  },
  {
   "cell_type": "code",
   "execution_count": null,
   "metadata": {},
   "outputs": [],
   "source": [
    "stats.describe(newsFactorReturn)"
   ]
  },
  {
   "cell_type": "code",
   "execution_count": null,
   "metadata": {},
   "outputs": [],
   "source": [
    "stats.ttest_1samp(newsFactorReturn,0)"
   ]
  }
 ],
 "metadata": {
  "kernelspec": {
   "display_name": "Python 3",
   "language": "python",
   "name": "python3"
  },
  "language_info": {
   "codemirror_mode": {
    "name": "ipython",
    "version": 3
   },
   "file_extension": ".py",
   "mimetype": "text/x-python",
   "name": "python",
   "nbconvert_exporter": "python",
   "pygments_lexer": "ipython3",
   "version": "3.6.2"
  }
 },
 "nbformat": 4,
 "nbformat_minor": 2
}
