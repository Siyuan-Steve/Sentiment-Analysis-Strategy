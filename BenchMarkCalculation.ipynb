{
 "cells": [
  {
   "cell_type": "code",
   "execution_count": 22,
   "metadata": {},
   "outputs": [],
   "source": [
    "import pandas as pd\n",
    "import numpy as np\n",
    "import sys"
   ]
  },
  {
   "cell_type": "code",
   "execution_count": 25,
   "metadata": {},
   "outputs": [],
   "source": [
    "tickers=pd.read_csv(\"sp1500ticker.csv\")"
   ]
  },
  {
   "cell_type": "code",
   "execution_count": 3,
   "metadata": {},
   "outputs": [],
   "source": [
    "totalPrice={}\n",
    "for ticker in tickers:\n",
    "    fileName=\"daily_adjusted_\"+ticker+\".csv\"\n",
    "    totalPrice[ticker]=pd.read_csv(fileName).set_index(\"timestamp\").sort_index()"
   ]
  },
  {
   "cell_type": "code",
   "execution_count": 28,
   "metadata": {},
   "outputs": [
    {
     "name": "stdout",
     "output_type": "stream",
     "text": [
      " Processing Data: 100.00%-SAIC"
     ]
    }
   ],
   "source": [
    "benchmarkEachDay={}\n",
    "i=0\n",
    "for ticker in tickers:\n",
    "    for date in totalPrice[ticker].index.values:\n",
    "        benchmarkEachDay[date]=[]\n",
    "        benchmarkEachDay[date].append(totalPrice[ticker][\"adjusted_close\"][date])\n",
    "    i+=1\n",
    "    sys.stdout.write( '\\r Processing Data: %.2f%%-%s' % (((i * 100 / (len(list(tickers))))), ticker))\n",
    "    sys.stdout.flush()"
   ]
  },
  {
   "cell_type": "code",
   "execution_count": 39,
   "metadata": {},
   "outputs": [],
   "source": [
    "indexValue={}\n",
    "indexValueList=[]\n",
    "validDate=[]\n",
    "for date in list(benchmarkEachDay.keys()):\n",
    "    indexValue[date]=np.mean(benchmarkEachDay[date])\n",
    "    indexValueList.append(indexValue[date])\n",
    "    validDate.append(date)"
   ]
  },
  {
   "cell_type": "code",
   "execution_count": 44,
   "metadata": {},
   "outputs": [],
   "source": [
    "benchMarkFinal=pd.DataFrame()\n",
    "benchMarkFinal[\"Date\"]=np.array(validDate)\n",
    "benchMarkFinal[\"Index Value\"]=np.array(indexValueList)\n",
    "benchMarkFinal=benchMarkFinal.set_index(\"Date\").sort_index()\n",
    "benchMarkFinal[\"Index Percentage\"]=benchMarkFinal[\"Index Value\"]/benchMarkFinal[\"Index Value\"][0]"
   ]
  },
  {
   "cell_type": "code",
   "execution_count": 46,
   "metadata": {},
   "outputs": [],
   "source": [
    "benchMarkFinal.to_csv(\"benchmarkReturn.csv\")"
   ]
  }
 ],
 "metadata": {
  "kernelspec": {
   "display_name": "Python 3",
   "language": "python",
   "name": "python3"
  },
  "language_info": {
   "codemirror_mode": {
    "name": "ipython",
    "version": 3
   },
   "file_extension": ".py",
   "mimetype": "text/x-python",
   "name": "python",
   "nbconvert_exporter": "python",
   "pygments_lexer": "ipython3",
   "version": "3.6.2"
  }
 },
 "nbformat": 4,
 "nbformat_minor": 2
}
