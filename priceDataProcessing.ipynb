{
 "cells": [
  {
   "cell_type": "code",
   "execution_count": 10,
   "metadata": {},
   "outputs": [],
   "source": [
    "with open('sp1500tickerWoSlash.csv') as file:\n",
    "    sp1500tickers=file.read().split('\\n') "
   ]
  },
  {
   "cell_type": "code",
   "execution_count": null,
   "metadata": {
    "scrolled": true
   },
   "outputs": [],
   "source": [
    "##Run the Following code in CMD\n",
    "# for ticker in sp1500tickers:\n",
    "#     outFileName=(\"sp1500price\"+\"\\\\\"+ticker+\"Price.csv\")\n",
    "#     with open('sp1500price.csv') as infile:\n",
    "#         with open(outFileName,'w')as outfile:\n",
    "#             for line in infile:\n",
    "#                 curLine=line.split('\\t')\n",
    "#                 if curLine[1] == ticker:\n",
    "#                     outfile.write(line)"
   ]
  },
  {
   "cell_type": "code",
   "execution_count": 16,
   "metadata": {},
   "outputs": [],
   "source": [
    "#Run the Following code in CMD\n",
    "# for ticker in sp1500tickers:\n",
    "#     outFileName=(\"sp1500sentiment\"+\"\\\\\"+ticker+\"Sentiment.csv\")\n",
    "#     with open('sp1500Sentiment.csv') as infile:\n",
    "#         with open(outFileName,'w')as outfile:\n",
    "#             for line in infile:\n",
    "#                 curLine=line.split(',')\n",
    "#                 if curLine[1] == ticker:\n",
    "#                     outfile.write(line)"
   ]
  }
 ],
 "metadata": {
  "kernelspec": {
   "display_name": "Python 3",
   "language": "python",
   "name": "python3"
  },
  "language_info": {
   "codemirror_mode": {
    "name": "ipython",
    "version": 3
   },
   "file_extension": ".py",
   "mimetype": "text/x-python",
   "name": "python",
   "nbconvert_exporter": "python",
   "pygments_lexer": "ipython3",
   "version": "3.6.2"
  }
 },
 "nbformat": 4,
 "nbformat_minor": 2
}
