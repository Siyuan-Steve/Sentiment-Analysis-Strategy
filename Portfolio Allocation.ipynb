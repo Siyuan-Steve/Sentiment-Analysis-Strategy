{
 "cells": [
  {
   "cell_type": "code",
   "execution_count": 43,
   "metadata": {},
   "outputs": [],
   "source": [
    "import pandas as pd\n",
    "import os\n",
    "import sys\n",
    "import math\n",
    "import numpy as np"
   ]
  },
  {
   "cell_type": "code",
   "execution_count": 2,
   "metadata": {},
   "outputs": [],
   "source": [
    "AAPL=pd.read_csv(\"C:\\\\Users\\\\lisiy\\\\Quant Method in Investment\\\\sp1500data\\\\sp1500data\\\\sp1500adjustedPrice\\\\daily_adjusted_AAPL.csv\")"
   ]
  },
  {
   "cell_type": "code",
   "execution_count": 146,
   "metadata": {},
   "outputs": [],
   "source": [
    "dates=list(AAPL.timestamp)"
   ]
  },
  {
   "cell_type": "code",
   "execution_count": 147,
   "metadata": {},
   "outputs": [],
   "source": [
    "dates=dates[::-1]"
   ]
  },
  {
   "cell_type": "code",
   "execution_count": 166,
   "metadata": {
    "collapsed": true
   },
   "outputs": [
    {
     "name": "stderr",
     "output_type": "stream",
     "text": [
      "c:\\users\\lisiy\\appdata\\local\\programs\\python\\python36-32\\lib\\site-packages\\ipykernel_launcher.py:30: SettingWithCopyWarning: \n",
      "A value is trying to be set on a copy of a slice from a DataFrame.\n",
      "Try using .loc[row_indexer,col_indexer] = value instead\n",
      "\n",
      "See the caveats in the documentation: http://pandas.pydata.org/pandas-docs/stable/indexing.html#indexing-view-versus-copy\n",
      "c:\\users\\lisiy\\appdata\\local\\programs\\python\\python36-32\\lib\\site-packages\\ipykernel_launcher.py:31: SettingWithCopyWarning: \n",
      "A value is trying to be set on a copy of a slice from a DataFrame.\n",
      "Try using .loc[row_indexer,col_indexer] = value instead\n",
      "\n",
      "See the caveats in the documentation: http://pandas.pydata.org/pandas-docs/stable/indexing.html#indexing-view-versus-copy\n",
      "c:\\users\\lisiy\\appdata\\local\\programs\\python\\python36-32\\lib\\site-packages\\ipykernel_launcher.py:33: SettingWithCopyWarning: \n",
      "A value is trying to be set on a copy of a slice from a DataFrame.\n",
      "Try using .loc[row_indexer,col_indexer] = value instead\n",
      "\n",
      "See the caveats in the documentation: http://pandas.pydata.org/pandas-docs/stable/indexing.html#indexing-view-versus-copy\n",
      "c:\\users\\lisiy\\appdata\\local\\programs\\python\\python36-32\\lib\\site-packages\\ipykernel_launcher.py:40: SettingWithCopyWarning: \n",
      "A value is trying to be set on a copy of a slice from a DataFrame.\n",
      "Try using .loc[row_indexer,col_indexer] = value instead\n",
      "\n",
      "See the caveats in the documentation: http://pandas.pydata.org/pandas-docs/stable/indexing.html#indexing-view-versus-copy\n",
      "c:\\users\\lisiy\\appdata\\local\\programs\\python\\python36-32\\lib\\site-packages\\ipykernel_launcher.py:41: SettingWithCopyWarning: \n",
      "A value is trying to be set on a copy of a slice from a DataFrame.\n",
      "Try using .loc[row_indexer,col_indexer] = value instead\n",
      "\n",
      "See the caveats in the documentation: http://pandas.pydata.org/pandas-docs/stable/indexing.html#indexing-view-versus-copy\n",
      "c:\\users\\lisiy\\appdata\\local\\programs\\python\\python36-32\\lib\\site-packages\\ipykernel_launcher.py:43: SettingWithCopyWarning: \n",
      "A value is trying to be set on a copy of a slice from a DataFrame.\n",
      "Try using .loc[row_indexer,col_indexer] = value instead\n",
      "\n",
      "See the caveats in the documentation: http://pandas.pydata.org/pandas-docs/stable/indexing.html#indexing-view-versus-copy\n",
      "c:\\users\\lisiy\\appdata\\local\\programs\\python\\python36-32\\lib\\site-packages\\ipykernel_launcher.py:50: SettingWithCopyWarning: \n",
      "A value is trying to be set on a copy of a slice from a DataFrame.\n",
      "Try using .loc[row_indexer,col_indexer] = value instead\n",
      "\n",
      "See the caveats in the documentation: http://pandas.pydata.org/pandas-docs/stable/indexing.html#indexing-view-versus-copy\n"
     ]
    },
    {
     "name": "stdout",
     "output_type": "stream",
     "text": [
      "\r",
      " Processing Data: 0.02%-2000-01-03"
     ]
    },
    {
     "name": "stderr",
     "output_type": "stream",
     "text": [
      "c:\\users\\lisiy\\appdata\\local\\programs\\python\\python36-32\\lib\\site-packages\\ipykernel_launcher.py:51: SettingWithCopyWarning: \n",
      "A value is trying to be set on a copy of a slice from a DataFrame.\n",
      "Try using .loc[row_indexer,col_indexer] = value instead\n",
      "\n",
      "See the caveats in the documentation: http://pandas.pydata.org/pandas-docs/stable/indexing.html#indexing-view-versus-copy\n",
      "c:\\users\\lisiy\\appdata\\local\\programs\\python\\python36-32\\lib\\site-packages\\ipykernel_launcher.py:53: SettingWithCopyWarning: \n",
      "A value is trying to be set on a copy of a slice from a DataFrame.\n",
      "Try using .loc[row_indexer,col_indexer] = value instead\n",
      "\n",
      "See the caveats in the documentation: http://pandas.pydata.org/pandas-docs/stable/indexing.html#indexing-view-versus-copy\n",
      "c:\\users\\lisiy\\appdata\\local\\programs\\python\\python36-32\\lib\\site-packages\\ipykernel_launcher.py:70: SettingWithCopyWarning: \n",
      "A value is trying to be set on a copy of a slice from a DataFrame.\n",
      "Try using .loc[row_indexer,col_indexer] = value instead\n",
      "\n",
      "See the caveats in the documentation: http://pandas.pydata.org/pandas-docs/stable/indexing.html#indexing-view-versus-copy\n",
      "c:\\users\\lisiy\\appdata\\local\\programs\\python\\python36-32\\lib\\site-packages\\ipykernel_launcher.py:71: SettingWithCopyWarning: \n",
      "A value is trying to be set on a copy of a slice from a DataFrame.\n",
      "Try using .loc[row_indexer,col_indexer] = value instead\n",
      "\n",
      "See the caveats in the documentation: http://pandas.pydata.org/pandas-docs/stable/indexing.html#indexing-view-versus-copy\n",
      "c:\\users\\lisiy\\appdata\\local\\programs\\python\\python36-32\\lib\\site-packages\\ipykernel_launcher.py:73: SettingWithCopyWarning: \n",
      "A value is trying to be set on a copy of a slice from a DataFrame.\n",
      "Try using .loc[row_indexer,col_indexer] = value instead\n",
      "\n",
      "See the caveats in the documentation: http://pandas.pydata.org/pandas-docs/stable/indexing.html#indexing-view-versus-copy\n"
     ]
    },
    {
     "name": "stdout",
     "output_type": "stream",
     "text": [
      " Processing Data: 0.09%-2000-01-06"
     ]
    },
    {
     "name": "stderr",
     "output_type": "stream",
     "text": [
      "c:\\users\\lisiy\\appdata\\local\\programs\\python\\python36-32\\lib\\site-packages\\ipykernel_launcher.py:60: SettingWithCopyWarning: \n",
      "A value is trying to be set on a copy of a slice from a DataFrame.\n",
      "Try using .loc[row_indexer,col_indexer] = value instead\n",
      "\n",
      "See the caveats in the documentation: http://pandas.pydata.org/pandas-docs/stable/indexing.html#indexing-view-versus-copy\n",
      "c:\\users\\lisiy\\appdata\\local\\programs\\python\\python36-32\\lib\\site-packages\\ipykernel_launcher.py:61: SettingWithCopyWarning: \n",
      "A value is trying to be set on a copy of a slice from a DataFrame.\n",
      "Try using .loc[row_indexer,col_indexer] = value instead\n",
      "\n",
      "See the caveats in the documentation: http://pandas.pydata.org/pandas-docs/stable/indexing.html#indexing-view-versus-copy\n",
      "c:\\users\\lisiy\\appdata\\local\\programs\\python\\python36-32\\lib\\site-packages\\ipykernel_launcher.py:63: SettingWithCopyWarning: \n",
      "A value is trying to be set on a copy of a slice from a DataFrame.\n",
      "Try using .loc[row_indexer,col_indexer] = value instead\n",
      "\n",
      "See the caveats in the documentation: http://pandas.pydata.org/pandas-docs/stable/indexing.html#indexing-view-versus-copy\n"
     ]
    },
    {
     "name": "stdout",
     "output_type": "stream",
     "text": [
      " Processing Data: 99.18%-2017-09-29"
     ]
    }
   ],
   "source": [
    "combinedData={}\n",
    "usefulDate=[]\n",
    "posWithMomentumRank={}\n",
    "highestSentiPortfolio={}\n",
    "secondHighestSentiPortfolio={}\n",
    "thirdHighestSentiPortfolio={}\n",
    "fourthHighestSentiPortfolio={}\n",
    "lowestSentiPortfolio={}\n",
    "highestSentiDailyReturnEqual=[]\n",
    "secondHighestSentiDailyReturnEqual=[]\n",
    "thirdHighestSentiDailyReturnEqual=[]\n",
    "fourthHighestSentiDailyReturnEqual=[]\n",
    "lowestSentiDailyReturnEqual=[]\n",
    "highestSentiDailyReturnMomentumValue=[]\n",
    "secondHighestSentiDailyReturnMomentumValue=[]\n",
    "thirdHighestSentiDailyReturnMomentumValue=[]\n",
    "fourthHighestSentiDailyReturnMomentumValue=[]\n",
    "lowestSentiDailyReturnMomentumValue=[]\n",
    "dailyReturn=[]\n",
    "nclass=5\n",
    "i=0\n",
    "for date in dates:\n",
    "    fileName=(\"C:\\\\Users\\\\lisiy\\\\Quant Method in Investment\\\\sp1500data\\\\combinedMAData\\\\combined_\"+date+\".csv\")\n",
    "    if os.path.isfile(fileName):\n",
    "        usefulDate.append(date)\n",
    "        combinedData[date]=pd.read_csv(fileName)\n",
    "        combinedData[date][\"sentimentRank\"]=combinedData[date][\"SentimentScore\"].rank(method=\"min\",ascending=False)\n",
    "        step=math.ceil(len(combinedData[date])/nclass)\n",
    "        highestSentiPortfolio[date]=combinedData[date][combinedData[date][\"sentimentRank\"]<step]\n",
    "        highestSentiPortfolio[date][\"momentumRank\"]=highestSentiPortfolio[date][\"maRatio\"].rank(method=\"min\",ascending=False)\n",
    "        if len(highestSentiPortfolio[date])!=0:\n",
    "            highestSentiPortfolio[date][\"weightByMARatioValue\"]=highestSentiPortfolio[date][\"maRatio\"]/(highestSentiPortfolio[date][\"maRatio\"].sum())\n",
    "            highestSentiPortfolio[date][\"equalWeight\"]=1/len(highestSentiPortfolio[date])\n",
    "            highestSentiDailyReturnEqual.append(np.mean(highestSentiPortfolio[date][\"nextDayReturn\"]*highestSentiPortfolio[date][\"equalWeight\"]))\n",
    "            highestSentiDailyReturnMomentumValue.append(np.mean(highestSentiPortfolio[date][\"nextDayReturn\"]*highestSentiPortfolio[date][\"weightByMARatioValue\"]))\n",
    "        else:\n",
    "            highestSentiDailyReturnEqual.append(0)\n",
    "            highestSentiDailyReturnMomentumValue.append(0)\n",
    "        \n",
    "        secondHighestSentiPortfolio[date] = combinedData[date][(combinedData[date]['sentimentRank'] >= step) & (combinedData[date]['sentimentRank'] < 2*step)]\n",
    "        secondHighestSentiPortfolio[date][\"momentumRank\"]=secondHighestSentiPortfolio[date][\"maRatio\"].rank(method=\"min\",ascending=False)\n",
    "        if len(secondHighestSentiPortfolio[date])!=0:\n",
    "            secondHighestSentiPortfolio[date][\"equalWeight\"]=1/len(secondHighestSentiPortfolio[date])\n",
    "            secondHighestSentiPortfolio[date][\"weightByMARatioValue\"]=secondHighestSentiPortfolio[date][\"maRatio\"]/(secondHighestSentiPortfolio[date][\"maRatio\"].sum())\n",
    "            secondHighestSentiDailyReturnEqual.append(np.mean(secondHighestSentiPortfolio[date][\"nextDayReturn\"]*secondHighestSentiPortfolio[date][\"equalWeight\"]))\n",
    "            secondHighestSentiDailyReturnMomentumValue.append(np.mean(secondHighestSentiPortfolio[date][\"nextDayReturn\"]*secondHighestSentiPortfolio[date][\"weightByMARatioValue\"]))\n",
    "        else:\n",
    "            secondHighestSentiDailyReturnEqual.append(0)\n",
    "            secondHighestSentiDailyReturnMomentumValue.append(0)\n",
    "        \n",
    "        thirdHighestSentiPortfolio[date] = combinedData[date][(combinedData[date]['sentimentRank'] >=2* step) & (combinedData[date]['sentimentRank'] < 3*step)]\n",
    "        thirdHighestSentiPortfolio[date][\"momentumRank\"]=thirdHighestSentiPortfolio[date][\"maRatio\"].rank(method=\"min\",ascending=False)\n",
    "        if len(thirdHighestSentiPortfolio[date])!=0:\n",
    "            thirdHighestSentiPortfolio[date][\"weightByMARatioValue\"]=thirdHighestSentiPortfolio[date][\"maRatio\"]/(thirdHighestSentiPortfolio[date][\"maRatio\"].sum())\n",
    "            thirdHighestSentiPortfolio[date][\"equalWeight\"]=1/len(thirdHighestSentiPortfolio[date])\n",
    "            thirdHighestSentiDailyReturnEqual.append(np.mean(thirdHighestSentiPortfolio[date][\"nextDayReturn\"]*thirdHighestSentiPortfolio[date][\"equalWeight\"]))\n",
    "            thirdHighestSentiDailyReturnMomentumValue.append(np.mean(thirdHighestSentiPortfolio[date][\"nextDayReturn\"]*thirdHighestSentiPortfolio[date][\"weightByMARatioValue\"]))\n",
    "        else:\n",
    "            thirdHighestSentiDailyReturnEqual.append(0)\n",
    "            thirdHighestSentiDailyReturnMomentumValue.append(0)\n",
    "        \n",
    "        fourthHighestSentiPortfolio[date] = combinedData[date][(combinedData[date]['sentimentRank'] >=3* step) & (combinedData[date]['sentimentRank'] < 4*step)]\n",
    "        fourthHighestSentiPortfolio[date][\"momentumRank\"]=fourthHighestSentiPortfolio[date][\"maRatio\"].rank(method=\"min\",ascending=False)\n",
    "        if len(fourthHighestSentiPortfolio[date])!=0:\n",
    "            fourthHighestSentiPortfolio[date][\"weightByMARatioValue\"]=fourthHighestSentiPortfolio[date][\"maRatio\"]/(fourthHighestSentiPortfolio[date][\"maRatio\"].sum())\n",
    "            fourthHighestSentiPortfolio[date][\"equalWeight\"]=1/len(fourthHighestSentiPortfolio[date])\n",
    "            fourthHighestSentiDailyReturnEqual.append(np.mean(fourthHighestSentiPortfolio[date][\"nextDayReturn\"]*fourthHighestSentiPortfolio[date][\"equalWeight\"]))\n",
    "            fourthHighestSentiDailyReturnMomentumValue.append(np.mean(fourthHighestSentiPortfolio[date][\"nextDayReturn\"]*fourthHighestSentiPortfolio[date][\"weightByMARatioValue\"]))\n",
    "        else:\n",
    "            fourthHighestSentiDailyReturnEqual.append(0)\n",
    "            fourthHighestSentiDailyReturnMomentumValue.append(0)\n",
    "        \n",
    "        lowestSentiPortfolio[date]=combinedData[date][(combinedData[date]['sentimentRank'] >=4* step) & (combinedData[date]['sentimentRank'] < 5*step)]\n",
    "        lowestSentiPortfolio[date][\"momentumRank\"]=lowestSentiPortfolio[date][\"maRatio\"].rank(method=\"min\",ascending=False)\n",
    "        if len(lowestSentiPortfolio[date])!=0:\n",
    "            lowestSentiPortfolio[date][\"weightByMARatioValue\"]=lowestSentiPortfolio[date][\"maRatio\"]/(lowestSentiPortfolio[date][\"maRatio\"].sum())\n",
    "            lowestSentiPortfolio[date][\"equalWeight\"]=1/len(lowestSentiPortfolio[date])\n",
    "            lowestSentiDailyReturnEqual.append(np.mean(lowestSentiPortfolio[date][\"nextDayReturn\"]*lowestSentiPortfolio[date][\"equalWeight\"]))\n",
    "            lowestSentiDailyReturnMomentumValue.append(np.mean(lowestSentiPortfolio[date][\"nextDayReturn\"]*lowestSentiPortfolio[date][\"weightByMARatioValue\"]))\n",
    "        else:\n",
    "            lowestSentiDailyReturnEqual.append(0)\n",
    "            lowestSentiDailyReturnMomentumValue.append(0)\n",
    "        \n",
    "        \n",
    "        i+=1\n",
    "        sys.stdout.write( '\\r Processing Data: %.2f%%-%s' % (((i * 100 / (len(dates)))), str(date)))\n",
    "        sys.stdout.flush()"
   ]
  },
  {
   "cell_type": "code",
   "execution_count": 200,
   "metadata": {},
   "outputs": [
    {
     "data": {
      "text/html": [
       "<div>\n",
       "<style>\n",
       "    .dataframe thead tr:only-child th {\n",
       "        text-align: right;\n",
       "    }\n",
       "\n",
       "    .dataframe thead th {\n",
       "        text-align: left;\n",
       "    }\n",
       "\n",
       "    .dataframe tbody tr th {\n",
       "        vertical-align: top;\n",
       "    }\n",
       "</style>\n",
       "<table border=\"1\" class=\"dataframe\">\n",
       "  <thead>\n",
       "    <tr style=\"text-align: right;\">\n",
       "      <th></th>\n",
       "      <th>Unnamed: 0</th>\n",
       "      <th>ticker</th>\n",
       "      <th>SentimentScore</th>\n",
       "      <th>nextDayReturn</th>\n",
       "      <th>maRatio</th>\n",
       "      <th>sentimentRank</th>\n",
       "      <th>momentumRank</th>\n",
       "      <th>weightByMARatioValue</th>\n",
       "      <th>equalWeight</th>\n",
       "    </tr>\n",
       "  </thead>\n",
       "  <tbody>\n",
       "    <tr>\n",
       "      <th>0</th>\n",
       "      <td>0</td>\n",
       "      <td>BA</td>\n",
       "      <td>1.098612</td>\n",
       "      <td>0.006712</td>\n",
       "      <td>0.902437</td>\n",
       "      <td>12.0</td>\n",
       "      <td>24.0</td>\n",
       "      <td>0.034889</td>\n",
       "      <td>0.04</td>\n",
       "    </tr>\n",
       "    <tr>\n",
       "      <th>2</th>\n",
       "      <td>2</td>\n",
       "      <td>JPM</td>\n",
       "      <td>1.098612</td>\n",
       "      <td>-0.014086</td>\n",
       "      <td>1.039369</td>\n",
       "      <td>12.0</td>\n",
       "      <td>9.0</td>\n",
       "      <td>0.040182</td>\n",
       "      <td>0.04</td>\n",
       "    </tr>\n",
       "    <tr>\n",
       "      <th>5</th>\n",
       "      <td>5</td>\n",
       "      <td>GE</td>\n",
       "      <td>1.609438</td>\n",
       "      <td>-0.034350</td>\n",
       "      <td>0.961979</td>\n",
       "      <td>4.0</td>\n",
       "      <td>18.0</td>\n",
       "      <td>0.037190</td>\n",
       "      <td>0.04</td>\n",
       "    </tr>\n",
       "    <tr>\n",
       "      <th>13</th>\n",
       "      <td>13</td>\n",
       "      <td>CSCO</td>\n",
       "      <td>1.609438</td>\n",
       "      <td>0.025943</td>\n",
       "      <td>1.120764</td>\n",
       "      <td>4.0</td>\n",
       "      <td>6.0</td>\n",
       "      <td>0.043329</td>\n",
       "      <td>0.04</td>\n",
       "    </tr>\n",
       "    <tr>\n",
       "      <th>20</th>\n",
       "      <td>20</td>\n",
       "      <td>APA</td>\n",
       "      <td>1.098612</td>\n",
       "      <td>-0.018694</td>\n",
       "      <td>1.010646</td>\n",
       "      <td>12.0</td>\n",
       "      <td>11.0</td>\n",
       "      <td>0.039072</td>\n",
       "      <td>0.04</td>\n",
       "    </tr>\n",
       "    <tr>\n",
       "      <th>21</th>\n",
       "      <td>21</td>\n",
       "      <td>DCI</td>\n",
       "      <td>1.386294</td>\n",
       "      <td>-0.009283</td>\n",
       "      <td>0.979125</td>\n",
       "      <td>7.0</td>\n",
       "      <td>15.0</td>\n",
       "      <td>0.037853</td>\n",
       "      <td>0.04</td>\n",
       "    </tr>\n",
       "    <tr>\n",
       "      <th>26</th>\n",
       "      <td>26</td>\n",
       "      <td>CPB</td>\n",
       "      <td>0.955511</td>\n",
       "      <td>0.070699</td>\n",
       "      <td>0.870201</td>\n",
       "      <td>25.0</td>\n",
       "      <td>25.0</td>\n",
       "      <td>0.033642</td>\n",
       "      <td>0.04</td>\n",
       "    </tr>\n",
       "    <tr>\n",
       "      <th>37</th>\n",
       "      <td>37</td>\n",
       "      <td>BEN</td>\n",
       "      <td>1.098612</td>\n",
       "      <td>-0.040623</td>\n",
       "      <td>0.939124</td>\n",
       "      <td>12.0</td>\n",
       "      <td>22.0</td>\n",
       "      <td>0.036307</td>\n",
       "      <td>0.04</td>\n",
       "    </tr>\n",
       "    <tr>\n",
       "      <th>39</th>\n",
       "      <td>39</td>\n",
       "      <td>CBRL</td>\n",
       "      <td>1.609438</td>\n",
       "      <td>0.025807</td>\n",
       "      <td>0.977008</td>\n",
       "      <td>4.0</td>\n",
       "      <td>16.0</td>\n",
       "      <td>0.037771</td>\n",
       "      <td>0.04</td>\n",
       "    </tr>\n",
       "    <tr>\n",
       "      <th>42</th>\n",
       "      <td>42</td>\n",
       "      <td>JEC</td>\n",
       "      <td>1.098612</td>\n",
       "      <td>0.000000</td>\n",
       "      <td>0.942752</td>\n",
       "      <td>12.0</td>\n",
       "      <td>21.0</td>\n",
       "      <td>0.036447</td>\n",
       "      <td>0.04</td>\n",
       "    </tr>\n",
       "    <tr>\n",
       "      <th>49</th>\n",
       "      <td>49</td>\n",
       "      <td>NOC</td>\n",
       "      <td>1.098612</td>\n",
       "      <td>0.001295</td>\n",
       "      <td>0.931340</td>\n",
       "      <td>12.0</td>\n",
       "      <td>23.0</td>\n",
       "      <td>0.036006</td>\n",
       "      <td>0.04</td>\n",
       "    </tr>\n",
       "    <tr>\n",
       "      <th>54</th>\n",
       "      <td>54</td>\n",
       "      <td>GVA</td>\n",
       "      <td>1.386294</td>\n",
       "      <td>0.052446</td>\n",
       "      <td>1.060913</td>\n",
       "      <td>7.0</td>\n",
       "      <td>8.0</td>\n",
       "      <td>0.041015</td>\n",
       "      <td>0.04</td>\n",
       "    </tr>\n",
       "    <tr>\n",
       "      <th>71</th>\n",
       "      <td>71</td>\n",
       "      <td>AMAT</td>\n",
       "      <td>2.014903</td>\n",
       "      <td>0.086507</td>\n",
       "      <td>1.154854</td>\n",
       "      <td>1.0</td>\n",
       "      <td>3.0</td>\n",
       "      <td>0.044647</td>\n",
       "      <td>0.04</td>\n",
       "    </tr>\n",
       "    <tr>\n",
       "      <th>79</th>\n",
       "      <td>79</td>\n",
       "      <td>EQR</td>\n",
       "      <td>1.098612</td>\n",
       "      <td>-0.006271</td>\n",
       "      <td>0.962279</td>\n",
       "      <td>12.0</td>\n",
       "      <td>17.0</td>\n",
       "      <td>0.037202</td>\n",
       "      <td>0.04</td>\n",
       "    </tr>\n",
       "    <tr>\n",
       "      <th>85</th>\n",
       "      <td>85</td>\n",
       "      <td>NTAP</td>\n",
       "      <td>1.386294</td>\n",
       "      <td>-0.005702</td>\n",
       "      <td>1.313256</td>\n",
       "      <td>7.0</td>\n",
       "      <td>2.0</td>\n",
       "      <td>0.050771</td>\n",
       "      <td>0.04</td>\n",
       "    </tr>\n",
       "    <tr>\n",
       "      <th>89</th>\n",
       "      <td>89</td>\n",
       "      <td>MHO</td>\n",
       "      <td>1.098612</td>\n",
       "      <td>0.045278</td>\n",
       "      <td>0.985604</td>\n",
       "      <td>12.0</td>\n",
       "      <td>13.0</td>\n",
       "      <td>0.038104</td>\n",
       "      <td>0.04</td>\n",
       "    </tr>\n",
       "    <tr>\n",
       "      <th>94</th>\n",
       "      <td>94</td>\n",
       "      <td>MAN</td>\n",
       "      <td>1.791759</td>\n",
       "      <td>0.008494</td>\n",
       "      <td>0.984076</td>\n",
       "      <td>3.0</td>\n",
       "      <td>14.0</td>\n",
       "      <td>0.038045</td>\n",
       "      <td>0.04</td>\n",
       "    </tr>\n",
       "    <tr>\n",
       "      <th>97</th>\n",
       "      <td>97</td>\n",
       "      <td>DAKT</td>\n",
       "      <td>1.098612</td>\n",
       "      <td>0.027511</td>\n",
       "      <td>0.999764</td>\n",
       "      <td>12.0</td>\n",
       "      <td>12.0</td>\n",
       "      <td>0.038651</td>\n",
       "      <td>0.04</td>\n",
       "    </tr>\n",
       "    <tr>\n",
       "      <th>103</th>\n",
       "      <td>103</td>\n",
       "      <td>CSGS</td>\n",
       "      <td>1.386294</td>\n",
       "      <td>0.079253</td>\n",
       "      <td>1.026481</td>\n",
       "      <td>7.0</td>\n",
       "      <td>10.0</td>\n",
       "      <td>0.039684</td>\n",
       "      <td>0.04</td>\n",
       "    </tr>\n",
       "    <tr>\n",
       "      <th>105</th>\n",
       "      <td>105</td>\n",
       "      <td>JBHT</td>\n",
       "      <td>1.386294</td>\n",
       "      <td>-0.051440</td>\n",
       "      <td>0.960097</td>\n",
       "      <td>7.0</td>\n",
       "      <td>19.0</td>\n",
       "      <td>0.037118</td>\n",
       "      <td>0.04</td>\n",
       "    </tr>\n",
       "    <tr>\n",
       "      <th>109</th>\n",
       "      <td>109</td>\n",
       "      <td>RNR</td>\n",
       "      <td>1.098612</td>\n",
       "      <td>0.006660</td>\n",
       "      <td>0.955053</td>\n",
       "      <td>12.0</td>\n",
       "      <td>20.0</td>\n",
       "      <td>0.036923</td>\n",
       "      <td>0.04</td>\n",
       "    </tr>\n",
       "    <tr>\n",
       "      <th>113</th>\n",
       "      <td>113</td>\n",
       "      <td>FCN</td>\n",
       "      <td>1.098612</td>\n",
       "      <td>-0.008218</td>\n",
       "      <td>1.122421</td>\n",
       "      <td>12.0</td>\n",
       "      <td>5.0</td>\n",
       "      <td>0.043393</td>\n",
       "      <td>0.04</td>\n",
       "    </tr>\n",
       "    <tr>\n",
       "      <th>115</th>\n",
       "      <td>115</td>\n",
       "      <td>ADI</td>\n",
       "      <td>1.945910</td>\n",
       "      <td>0.105884</td>\n",
       "      <td>1.136976</td>\n",
       "      <td>2.0</td>\n",
       "      <td>4.0</td>\n",
       "      <td>0.043956</td>\n",
       "      <td>0.04</td>\n",
       "    </tr>\n",
       "    <tr>\n",
       "      <th>118</th>\n",
       "      <td>118</td>\n",
       "      <td>RGEN</td>\n",
       "      <td>1.098612</td>\n",
       "      <td>0.441176</td>\n",
       "      <td>1.464478</td>\n",
       "      <td>12.0</td>\n",
       "      <td>1.0</td>\n",
       "      <td>0.056617</td>\n",
       "      <td>0.04</td>\n",
       "    </tr>\n",
       "    <tr>\n",
       "      <th>125</th>\n",
       "      <td>125</td>\n",
       "      <td>ACXM</td>\n",
       "      <td>1.098612</td>\n",
       "      <td>-0.009164</td>\n",
       "      <td>1.065311</td>\n",
       "      <td>12.0</td>\n",
       "      <td>7.0</td>\n",
       "      <td>0.041185</td>\n",
       "      <td>0.04</td>\n",
       "    </tr>\n",
       "  </tbody>\n",
       "</table>\n",
       "</div>"
      ],
      "text/plain": [
       "     Unnamed: 0 ticker  SentimentScore  nextDayReturn   maRatio  \\\n",
       "0             0     BA        1.098612       0.006712  0.902437   \n",
       "2             2    JPM        1.098612      -0.014086  1.039369   \n",
       "5             5     GE        1.609438      -0.034350  0.961979   \n",
       "13           13   CSCO        1.609438       0.025943  1.120764   \n",
       "20           20    APA        1.098612      -0.018694  1.010646   \n",
       "21           21    DCI        1.386294      -0.009283  0.979125   \n",
       "26           26    CPB        0.955511       0.070699  0.870201   \n",
       "37           37    BEN        1.098612      -0.040623  0.939124   \n",
       "39           39   CBRL        1.609438       0.025807  0.977008   \n",
       "42           42    JEC        1.098612       0.000000  0.942752   \n",
       "49           49    NOC        1.098612       0.001295  0.931340   \n",
       "54           54    GVA        1.386294       0.052446  1.060913   \n",
       "71           71   AMAT        2.014903       0.086507  1.154854   \n",
       "79           79    EQR        1.098612      -0.006271  0.962279   \n",
       "85           85   NTAP        1.386294      -0.005702  1.313256   \n",
       "89           89    MHO        1.098612       0.045278  0.985604   \n",
       "94           94    MAN        1.791759       0.008494  0.984076   \n",
       "97           97   DAKT        1.098612       0.027511  0.999764   \n",
       "103         103   CSGS        1.386294       0.079253  1.026481   \n",
       "105         105   JBHT        1.386294      -0.051440  0.960097   \n",
       "109         109    RNR        1.098612       0.006660  0.955053   \n",
       "113         113    FCN        1.098612      -0.008218  1.122421   \n",
       "115         115    ADI        1.945910       0.105884  1.136976   \n",
       "118         118   RGEN        1.098612       0.441176  1.464478   \n",
       "125         125   ACXM        1.098612      -0.009164  1.065311   \n",
       "\n",
       "     sentimentRank  momentumRank  weightByMARatioValue  equalWeight  \n",
       "0             12.0          24.0              0.034889         0.04  \n",
       "2             12.0           9.0              0.040182         0.04  \n",
       "5              4.0          18.0              0.037190         0.04  \n",
       "13             4.0           6.0              0.043329         0.04  \n",
       "20            12.0          11.0              0.039072         0.04  \n",
       "21             7.0          15.0              0.037853         0.04  \n",
       "26            25.0          25.0              0.033642         0.04  \n",
       "37            12.0          22.0              0.036307         0.04  \n",
       "39             4.0          16.0              0.037771         0.04  \n",
       "42            12.0          21.0              0.036447         0.04  \n",
       "49            12.0          23.0              0.036006         0.04  \n",
       "54             7.0           8.0              0.041015         0.04  \n",
       "71             1.0           3.0              0.044647         0.04  \n",
       "79            12.0          17.0              0.037202         0.04  \n",
       "85             7.0           2.0              0.050771         0.04  \n",
       "89            12.0          13.0              0.038104         0.04  \n",
       "94             3.0          14.0              0.038045         0.04  \n",
       "97            12.0          12.0              0.038651         0.04  \n",
       "103            7.0          10.0              0.039684         0.04  \n",
       "105            7.0          19.0              0.037118         0.04  \n",
       "109           12.0          20.0              0.036923         0.04  \n",
       "113           12.0           5.0              0.043393         0.04  \n",
       "115            2.0           4.0              0.043956         0.04  \n",
       "118           12.0           1.0              0.056617         0.04  \n",
       "125           12.0           7.0              0.041185         0.04  "
      ]
     },
     "execution_count": 200,
     "metadata": {},
     "output_type": "execute_result"
    }
   ],
   "source": [
    "highestSentiPortfolio[\"2000-02-16\"]#[\"weightByMARatioValue\"].sum()"
   ]
  },
  {
   "cell_type": "code",
   "execution_count": 167,
   "metadata": {},
   "outputs": [],
   "source": [
    "cum=1\n",
    "cumHighestSentiEqualList=[]\n",
    "for i in range(len(highestSentiDailyReturnEqual)):\n",
    "    if not math.isnan(highestSentiDailyReturnEqual[i]):\n",
    "        cum*=(1+highestSentiDailyReturnEqual[i])\n",
    "        cumHighestSentiEqualList.append(cum)"
   ]
  },
  {
   "cell_type": "code",
   "execution_count": 178,
   "metadata": {},
   "outputs": [
    {
     "data": {
      "text/plain": [
       "4465"
      ]
     },
     "execution_count": 178,
     "metadata": {},
     "output_type": "execute_result"
    }
   ],
   "source": [
    "len(cumHighestSentiEqualList)"
   ]
  },
  {
   "cell_type": "code",
   "execution_count": 168,
   "metadata": {},
   "outputs": [],
   "source": [
    "cum=1\n",
    "cumSecondHighestSentiEqualList=[]\n",
    "for i in range(len(secondHighestSentiDailyReturnEqual)):\n",
    "    if not math.isnan(secondHighestSentiDailyReturnEqual[i]):\n",
    "        cum*=(1+secondHighestSentiDailyReturnEqual[i])\n",
    "        cumSecondHighestSentiEqualList.append(cum)"
   ]
  },
  {
   "cell_type": "code",
   "execution_count": 174,
   "metadata": {},
   "outputs": [
    {
     "data": {
      "text/plain": [
       "3140"
      ]
     },
     "execution_count": 174,
     "metadata": {},
     "output_type": "execute_result"
    }
   ],
   "source": [
    "len(cumSecondHighestSentiEqualList)"
   ]
  },
  {
   "cell_type": "code",
   "execution_count": 170,
   "metadata": {},
   "outputs": [],
   "source": [
    "cumThirdHighestSentiEqualList=[]\n",
    "for i in range(len(thirdHighestSentiDailyReturnEqual)):\n",
    "    if not math.isnan(thirdHighestSentiDailyReturnEqual[i]):\n",
    "        cum*=(1+thirdHighestSentiDailyReturnEqual[i])\n",
    "        cumThirdHighestSentiEqualList.append(cum)"
   ]
  },
  {
   "cell_type": "code",
   "execution_count": 175,
   "metadata": {},
   "outputs": [
    {
     "data": {
      "text/plain": [
       "1497"
      ]
     },
     "execution_count": 175,
     "metadata": {},
     "output_type": "execute_result"
    }
   ],
   "source": [
    "len(cumThirdHighestSentiEqualList)"
   ]
  },
  {
   "cell_type": "code",
   "execution_count": 171,
   "metadata": {},
   "outputs": [],
   "source": [
    "cumFourthHighestSentiEqualList=[]\n",
    "for i in range(len(fourthHighestSentiDailyReturnEqual)):\n",
    "    if not math.isnan(fourthHighestSentiDailyReturnEqual[i]):\n",
    "        cum*=(1+fourthHighestSentiDailyReturnEqual[i])\n",
    "        cumFourthHighestSentiEqualList.append(cum)"
   ]
  },
  {
   "cell_type": "code",
   "execution_count": 176,
   "metadata": {},
   "outputs": [
    {
     "data": {
      "text/plain": [
       "2947"
      ]
     },
     "execution_count": 176,
     "metadata": {},
     "output_type": "execute_result"
    }
   ],
   "source": [
    "len(cumFourthHighestSentiEqualList)"
   ]
  },
  {
   "cell_type": "code",
   "execution_count": 172,
   "metadata": {},
   "outputs": [],
   "source": [
    "cum=1\n",
    "cumHighestSentiMomentumValueList=[]\n",
    "for i in range(len(highestSentiDailyReturnEqual)):\n",
    "    if not math.isnan(lowestSentiDailyReturnEqual[i]):\n",
    "        cum*=(1+lowestSentiDailyReturnEqual[i])\n",
    "        cumLowestSentiEqualList.append(cum)"
   ]
  },
  {
   "cell_type": "code",
   "execution_count": 177,
   "metadata": {},
   "outputs": [
    {
     "data": {
      "text/plain": [
       "8916"
      ]
     },
     "execution_count": 177,
     "metadata": {},
     "output_type": "execute_result"
    }
   ],
   "source": [
    "len(cumLowestSentiEqualList)"
   ]
  },
  {
   "cell_type": "code",
   "execution_count": 181,
   "metadata": {},
   "outputs": [],
   "source": [
    "equalWeightReturn=pd.DataFrame()\n",
    "equalWeightReturn[\"Dates\"]=np.array(usefulDate)\n",
    "equalWeightReturn[\"Daily Return of Highest Sentiment\"]=np.array(cumHighestSentiEqualList)\n",
    "# equalWeightReturn[\"Daily Return of Second Highest Sentiment\"]=np.array(cumSecondHighestSentiEqualList)\n",
    "# equalWeightReturn[\"Daily Return of Third Highest Sentiment\"]=np.array(cumThirdHighestSentiEqualList)\n",
    "# equalWeightReturn[\"Daily Return of Fourth Highest Sentiment\"]=np.array(cumFourthHighestSentiEqualList)\n",
    "# equalWeightReturn[\"Daily Return of Lowest Sentiment\"]=np.array(cumLowestSentiEqualList)\n",
    "equalWeightReturn.to_csv(\"C:\\\\Users\\\\lisiy\\\\Quant Method in Investment\\\\sp1500data\\\\returnEqualWeightEqualWeight.csv\")"
   ]
  },
  {
   "cell_type": "code",
   "execution_count": null,
   "metadata": {},
   "outputs": [],
   "source": [
    "cum=1\n",
    "cumHighestSentiMomentumValueList=[]\n",
    "for i in range(len(highestSentiDailyReturnMomentumValue)):\n",
    "    if not math.isnan(highestSentiDailyReturnMomentumValue[i]):\n",
    "        cum*=(1+highestSentiDailyReturnMomentumValue[i])\n",
    "        cumHighestSentiMomentumValueList.append(cum)"
   ]
  },
  {
   "cell_type": "code",
   "execution_count": null,
   "metadata": {},
   "outputs": [],
   "source": [
    "cum=1\n",
    "cumSecondHighestSentiMomentumValueList=[]\n",
    "for i in range(len(secondHighestSentiDailyReturnMomentumValue)):\n",
    "    if not math.isnan(secondHighestSentiDailyReturnMomentumValue[i]):\n",
    "        cum*=(1+secondHighestSentiDailyReturnMomentumValue[i])\n",
    "        cumSecondHighestSentiMomentumValueList.append(cum)"
   ]
  },
  {
   "cell_type": "code",
   "execution_count": null,
   "metadata": {},
   "outputs": [],
   "source": [
    "cum=1\n",
    "cumThirdHighestSentiMomentumValueList=[]\n",
    "for i in range(len(thirdHighestSentiDailyReturnMomentumValue)):\n",
    "    if not math.isnan(thirdHighestSentiDailyReturnMomentumValue[i]):\n",
    "        cum*=(1+thirdHighestSentiDailyReturnMomentumValue[i])\n",
    "        cumThirdHighestSentiMomentumValueList.append(cum)"
   ]
  },
  {
   "cell_type": "code",
   "execution_count": null,
   "metadata": {},
   "outputs": [],
   "source": [
    "cum=1\n",
    "cumFourthHighestSentiMomentumValueList=[]\n",
    "for i in range(len(fourthHighestSentiDailyReturnMomentumValue)):\n",
    "    if not math.isnan(fourthHighestSentiDailyReturnMomentumValue[i]):\n",
    "        cum*=(1+fourthHighestSentiDailyReturnMomentumValue[i])\n",
    "        cumFourthHighestSentiMomentumValueList.append(cum)"
   ]
  },
  {
   "cell_type": "code",
   "execution_count": null,
   "metadata": {},
   "outputs": [],
   "source": [
    "cum=1\n",
    "cumLowestSentiMomentumValueList=[]\n",
    "for i in range(len(lowestSentiDailyReturnMomentumValue)):\n",
    "    if not math.isnan(lowestSentiDailyReturnMomentumValue[i]):\n",
    "        cum*=(1+lowestSentiDailyReturnMomentumValue[i])\n",
    "        cumLowestSentiMomentumValueList.append(cum)"
   ]
  },
  {
   "cell_type": "code",
   "execution_count": null,
   "metadata": {},
   "outputs": [],
   "source": [
    "momentumValueWeightReturn=pd.DataFrame()\n",
    "momentumValueWeightReturn[\"Dates\"]=np.array(usefulDate)\n",
    "momentumValueWeightReturn[\"Daily Return of Highest Sentiment\"]=np.array(cumHighestSentiMomentumValueList)\n",
    "momentumValueWeightReturn[\"Daily Return of Second Highest Sentiment\"]=np.array(cumSecondHighestSentiMomentumValueList)\n",
    "momentumValueWeightReturn[\"Daily Return of Third Highest Sentiment\"]=np.array(cumThirdHighestSentiMomentumValueList)\n",
    "momentumValueWeightReturn[\"Daily Return of Fourth Highest Sentiment\"]=np.array(cumFourthHighestSentiMomentumValueList)\n",
    "momentumValueWeightReturn[\"Daily Return of Lowest Sentiment\"]=np.array(cumLowestSentiMomentumValueList)\n",
    "momentumValueWeightReturn.to_csv(\"C:\\\\Users\\\\lisiy\\\\Quant Method in Investment\\\\sp1500data\\\\returnEqualWeightbyMomentumValue.csv\")"
   ]
  },
  {
   "cell_type": "code",
   "execution_count": 121,
   "metadata": {},
   "outputs": [
    {
     "data": {
      "text/plain": [
       "[<matplotlib.lines.Line2D at 0xe472770>]"
      ]
     },
     "execution_count": 121,
     "metadata": {},
     "output_type": "execute_result"
    },
    {
     "data": {
      "image/png": "[encoded data removed]",
      "text/plain": [
       "<matplotlib.figure.Figure at 0x100219d0>"
      ]
     },
     "metadata": {},
     "output_type": "display_data"
    }
   ],
   "source": [
    "%matplotlib inline\n",
    "import matplotlib.pyplot as plt\n",
    "plt.plot(cumList)"
   ]
  },
  {
   "cell_type": "code",
   "execution_count": 94,
   "metadata": {},
   "outputs": [
    {
     "name": "stdout",
     "output_type": "stream",
     "text": [
      " Processing Data: 100.00%-2000-01-03"
     ]
    }
   ],
   "source": [
    "#judge whether the quantile return of ONLY sentiment score is good.\n",
    "combinedData={}\n",
    "portfolio={}\n",
    "quantileReturn = {i:[] for i in range(nclass)}\n",
    "nclass=5\n",
    "realDates=[]\n",
    "i=0\n",
    "for date in dates:\n",
    "    fileName=(\"C:\\\\Users\\\\lisiy\\\\Quant Method in Investment\\\\sp1500data\\\\combinedMAData\\\\combined_\"+date+\".csv\")\n",
    "    if os.path.isfile(fileName):\n",
    "        realDates.append(date)\n",
    "        combinedData[date]=pd.read_csv(fileName)\n",
    "        returnUse = list(zip(list(combinedData[date][\"SentimentScore\"]),list(combinedData[date][\"nextDayReturn\"])))\n",
    "        returnSorted = sorted(returnUse, key = lambda x:x[0])\n",
    "        n = len(returnSorted)//nclass\n",
    "        for j in range(nclass):\n",
    "            quantileReturn[j].append(np.mean([r for s,r in returnSorted[j*n:(j+1)*n]]))\n",
    "    i+=1\n",
    "    sys.stdout.write( '\\r Processing Data: %.2f%%-%s' % (((i * 100 / (len(dates)))), str(date)))\n",
    "    sys.stdout.flush()\n"
   ]
  },
  {
   "cell_type": "code",
   "execution_count": 95,
   "metadata": {},
   "outputs": [],
   "source": [
    "quantileCumReturn={}\n",
    "quantileCumReturn=[np.cumprod([x+1 for x in v if not x==np.inf])for k,v in quantileReturn.items()]"
   ]
  },
  {
   "cell_type": "code",
   "execution_count": 99,
   "metadata": {
    "scrolled": true
   },
   "outputs": [],
   "source": [
    "returnEachQuantileSentiOnly=pd.DataFrame()\n",
    "returnEachQuantileSentiOnly[\"Date\"]=np.array(realDates)\n",
    "returnEachQuantileSentiOnly[\"Highest Sentiment\"]=np.array(quantileCumReturn[4][::-1])\n",
    "returnEachQuantileSentiOnly[\"Second Highest Sentiment\"]=np.array(quantileCumReturn[3][::-1])\n",
    "returnEachQuantileSentiOnly[\"Third Highest Sentiment\"]=np.array(quantileCumReturn[2][::-1])\n",
    "returnEachQuantileSentiOnly[\"Fourth Highest Sentiment\"]=np.array(quantileCumReturn[1][::-1])\n",
    "returnEachQuantileSentiOnly[\"Lowest Sentiment\"]=np.array(quantileCumReturn[0][::-1])\n",
    "returnEachQuantileSentiOnly=returnEachQuantileSentiOnly.set_index('Date').sort_index()"
   ]
  },
  {
   "cell_type": "code",
   "execution_count": 102,
   "metadata": {},
   "outputs": [],
   "source": [
    "returnEachQuantileSentiOnly.to_csv(\"C:\\\\Users\\\\lisiy\\\\Quant Method in Investment\\\\sp1500data\\\\returnEachQuantileSentiOnly.csv\")"
   ]
  },
  {
   "cell_type": "code",
   "execution_count": 29,
   "metadata": {},
   "outputs": [
    {
     "data": {
      "text/plain": [
       "7.6374407698462941"
      ]
     },
     "execution_count": 29,
     "metadata": {},
     "output_type": "execute_result"
    }
   ],
   "source": [
    "cumList[-1]"
   ]
  }
 ],
 "metadata": {
  "kernelspec": {
   "display_name": "Python 3",
   "language": "python",
   "name": "python3"
  },
  "language_info": {
   "codemirror_mode": {
    "name": "ipython",
    "version": 3
   },
   "file_extension": ".py",
   "mimetype": "text/x-python",
   "name": "python",
   "nbconvert_exporter": "python",
   "pygments_lexer": "ipython3",
   "version": "3.6.2"
  }
 },
 "nbformat": 4,
 "nbformat_minor": 2
}
